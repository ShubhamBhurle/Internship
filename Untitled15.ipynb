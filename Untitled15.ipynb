{
 "cells": [
  {
   "cell_type": "code",
   "execution_count": 2,
   "id": "845f9f4b",
   "metadata": {},
   "outputs": [],
   "source": [
    "import regex as re"
   ]
  },
  {
   "cell_type": "markdown",
   "id": "9cbbceae",
   "metadata": {},
   "source": [
    "# split"
   ]
  },
  {
   "cell_type": "markdown",
   "id": "fde5eb03",
   "metadata": {},
   "source": [
    "split has three type pattern,string,maxsplit "
   ]
  },
  {
   "cell_type": "code",
   "execution_count": 14,
   "id": "c0ac5c60",
   "metadata": {},
   "outputs": [
    {
     "name": "stdout",
     "output_type": "stream",
     "text": [
      "['India', 'is', 'a', 'beutiful', 'country']\n"
     ]
    }
   ],
   "source": [
    "text = \"India is a beutiful country\"\n",
    "x = re.split(\"\\s\",text)\n",
    "print(x)"
   ]
  },
  {
   "cell_type": "code",
   "execution_count": 11,
   "id": "837efce7",
   "metadata": {},
   "outputs": [
    {
     "name": "stdout",
     "output_type": "stream",
     "text": [
      "['How', 'is a possible']\n"
     ]
    }
   ],
   "source": [
    "# here we split 1 string in two different type string   s for white space\n",
    "split_by = \"How is a possible\"\n",
    "x = re.split(\"\\s\",split_by,1)\n",
    "print(x)"
   ]
  },
  {
   "cell_type": "markdown",
   "id": "c03a3c9c",
   "metadata": {},
   "source": [
    "limit the numbers"
   ]
  },
  {
   "cell_type": "code",
   "execution_count": 16,
   "id": "cc4c181e",
   "metadata": {},
   "outputs": [
    {
     "name": "stdout",
     "output_type": "stream",
     "text": [
      "['12', '45-78']\n"
     ]
    }
   ],
   "source": [
    "# here we split number string split in two different type string\n",
    "target_string = \"12-45-78\"\n",
    "x = re.split(r\"\\D\",target_string,maxsplit=1)\n",
    "print(x)"
   ]
  },
  {
   "cell_type": "code",
   "execution_count": 19,
   "id": "8633e5ae",
   "metadata": {},
   "outputs": [
    {
     "name": "stdout",
     "output_type": "stream",
     "text": [
      "['12', '45', '78', '41-85']\n"
     ]
    }
   ],
   "source": [
    "target_string = \"12-45-78-41-85\"\n",
    "x = re.split(r\"\\D\",target_string,maxsplit=3)\n",
    "print(x)"
   ]
  },
  {
   "cell_type": "markdown",
   "id": "a77d7c5b",
   "metadata": {},
   "source": [
    "split string by two delimiters"
   ]
  },
  {
   "cell_type": "code",
   "execution_count": 20,
   "id": "fc649377",
   "metadata": {},
   "outputs": [
    {
     "name": "stdout",
     "output_type": "stream",
     "text": [
      "['12', '45', '78', '85', '17', '89']\n"
     ]
    }
   ],
   "source": [
    "#here we split two delimeiters - and , \n",
    "target_string = \"12,45,78,85-17-89\"\n",
    "s = re.split(r\"-|,\",target_string)\n",
    "print(s)"
   ]
  },
  {
   "cell_type": "markdown",
   "id": "035594dd",
   "metadata": {},
   "source": [
    "# SUB method also none as replace method"
   ]
  },
  {
   "cell_type": "code",
   "execution_count": null,
   "id": "f7944c34",
   "metadata": {},
   "outputs": [],
   "source": [
    "syntax  re.sub(pattern,replacement,string)"
   ]
  },
  {
   "cell_type": "code",
   "execution_count": 38,
   "id": "69786931",
   "metadata": {},
   "outputs": [
    {
     "name": "stdout",
     "output_type": "stream",
     "text": [
      "This====function====replace====spaces====by====assigned====char\n"
     ]
    }
   ],
   "source": [
    "sub = \"This function replace spaces by assigned char\"\n",
    "x = re.sub(\"\\s\",\"====\",sub)\n",
    "print(x)"
   ]
  },
  {
   "cell_type": "code",
   "execution_count": 42,
   "id": "7506e678",
   "metadata": {},
   "outputs": [
    {
     "name": "stdout",
     "output_type": "stream",
     "text": [
      "This Item is costs $ 2500\n"
     ]
    }
   ],
   "source": [
    "y = \"Rs\"\n",
    "z = r\"[oe]\"\n",
    "text = \"This Item is costs Rs 2500\"\n",
    "\n",
    "replace_text = re.sub(y, \"$\" ,text)\n",
    "print(replace_text)"
   ]
  },
  {
   "cell_type": "code",
   "execution_count": 5,
   "id": "5c7fe51e",
   "metadata": {},
   "outputs": [
    {
     "name": "stdout",
     "output_type": "stream",
     "text": [
      "APJAbdulKalamwasanIndiaareospacescientistalsoknowastheMissileManofindia\n"
     ]
    }
   ],
   "source": [
    "# here we remove all space singal of multiple patten (\\s+) in this string \n",
    "target = \"  APJ Abdul Kalam was an India areospace scientist also know as the Missile Man of india\"\n",
    "lid = re.sub(r\"\\s+\",\"\",target)\n",
    "print(lid)"
   ]
  },
  {
   "cell_type": "code",
   "execution_count": 47,
   "id": "979b7d23",
   "metadata": {},
   "outputs": [
    {
     "name": "stdout",
     "output_type": "stream",
     "text": [
      "APJ Abdul Kalam was an India areospace scientist also know as the Missile Man of india\n"
     ]
    }
   ],
   "source": [
    "# here we removing leading spaces pattern is (^\\s+)\n",
    "# so i need end spaces remove this is pattern (\\s+$)\n",
    "target = \"    APJ Abdul Kalam was an India areospace scientist also know as the Missile Man of india\"\n",
    "lid = re.sub(r\"^\\s+\",\"\",target)\n",
    "print(lid)"
   ]
  },
  {
   "cell_type": "code",
   "execution_count": 38,
   "id": "fb73eaee",
   "metadata": {},
   "outputs": [
    {
     "name": "stdout",
     "output_type": "stream",
     "text": [
      "abc_xCyz___\n"
     ]
    }
   ],
   "source": [
    "sub = re.sub(r'[0-9]+',r'_','abc00123xCyz456_0')\n",
    "print(sub)"
   ]
  },
  {
   "cell_type": "code",
   "execution_count": 13,
   "id": "52bb2d8c",
   "metadata": {},
   "outputs": [
    {
     "name": "stdout",
     "output_type": "stream",
     "text": [
      "('abc*xyz*_*', 3)\n"
     ]
    }
   ],
   "source": [
    "#subn is count ouccrences how many ouccrence means is 'abc',xyz is this are occrecene and there show us 3 time \n",
    "sub = re.subn(r'[0-9]+',r'*','abc00123xyz456_0')\n",
    "print(sub)"
   ]
  },
  {
   "cell_type": "markdown",
   "id": "50f44720",
   "metadata": {},
   "source": [
    "# Group in regex"
   ]
  },
  {
   "cell_type": "markdown",
   "id": "34213b4c",
   "metadata": {},
   "source": [
    "This not about the group function \n",
    "\n",
    "this is all about the pattern\n",
    "\n",
    "group always start with 1 not 0 index is start with 0 "
   ]
  },
  {
   "cell_type": "code",
   "execution_count": 15,
   "id": "cd70720e",
   "metadata": {},
   "outputs": [
    {
     "name": "stdout",
     "output_type": "stream",
     "text": [
      "43 CENTUREIS and 91 HALF CENTUREIS\n",
      "43\n",
      "CENTUREIS\n"
     ]
    }
   ],
   "source": [
    "dlino = \"Rohit Sharma has Score 43 CENTUREIS and 91 HALF CENTUREIS in his cricket career\"\n",
    "lino = re.search(r\"(\\b\\d+).+(\\b[A-Z]+\\b).+(\\b\\d+).+(\\b[A-Z]+\\b)\",dlino)\n",
    "\n",
    "print(lino.group())\n",
    "\n",
    "print(lino.group(1))\n",
    "\n",
    "print(lino.group(2))"
   ]
  },
  {
   "cell_type": "markdown",
   "id": "67a6ebdf",
   "metadata": {},
   "source": [
    "Regex capture group multiple times "
   ]
  },
  {
   "cell_type": "code",
   "execution_count": 20,
   "id": "9f7ebfda",
   "metadata": {},
   "outputs": [
    {
     "name": "stdout",
     "output_type": "stream",
     "text": [
      "43\n",
      "CENTUREIS\n",
      "91\n",
      "HALF\n"
     ]
    }
   ],
   "source": [
    "dlino = \"Rohit Sharma has Score 43 CENTUREIS and 91 HALF CENTUREIS in his cricket career\"\n",
    "\n",
    "pattern = re.compile(r\"(\\b\\d+).(\\b[A-Z]+\\b)\")\n",
    "\n",
    "for match in pattern.finditer(dlino):\n",
    "    print(match.group(1))\n",
    "    print(match.group(2))\n",
    "    "
   ]
  },
  {
   "cell_type": "code",
   "execution_count": 2,
   "id": "c5dba595",
   "metadata": {},
   "outputs": [
    {
     "name": "stdout",
     "output_type": "stream",
     "text": [
      "A year conatains 365 days and 6 hours\n"
     ]
    }
   ],
   "source": [
    "a= 'A year conatains 365 days and 6 hours'\n",
    "pattern = \"[A-Z]\\w\"\n",
    "b= re.findall(pattern,a)\n",
    "print(a)\n"
   ]
  },
  {
   "cell_type": "code",
   "execution_count": 9,
   "id": "cbad80d9",
   "metadata": {},
   "outputs": [
    {
     "name": "stdout",
     "output_type": "stream",
     "text": [
      "Capital =  ['o', 'h', 'i', 't', 'h', 'a', 'r', 'm', 'a', 'h', 'a', 's', 'c', 'o', 'r', 'e', 'a', 'n', 'd', 'i', 'n', 'h', 'i', 's', 'c', 'r', 'i', 'c', 'k', 'e', 't', 'c', 'a', 'r', 'e', 'e', 'r']\n",
      "Small =  ['R', 'S', 'S', 'C', 'E', 'N', 'T', 'U', 'R', 'E', 'I', 'S', 'H', 'A', 'L', 'F', 'C', 'E', 'N', 'T', 'U', 'R', 'E', 'I', 'S']\n",
      "numbers =  ['4', '3', '9', '1']\n"
     ]
    }
   ],
   "source": [
    "string = \"Rohit Sharma has Score 43 CENTUREIS and 91 HALF CENTUREIS in his cricket career\"\n",
    "\n",
    "Capital = re.findall(r'[a-z]', string)\n",
    "Small = re.findall(r'[A-Z]', string)\n",
    "numbers = re.findall(r'[0-9]', string)\n",
    "\n",
    "print(\"Capital = \",Capital)\n",
    "print(\"Small = \",Small)\n",
    "print(\"numbers = \",numbers)\n",
    "\n"
   ]
  },
  {
   "cell_type": "code",
   "execution_count": 32,
   "id": "2eb39246",
   "metadata": {},
   "outputs": [
    {
     "name": "stdout",
     "output_type": "stream",
     "text": [
      "['bb', 'bbb']\n"
     ]
    }
   ],
   "source": [
    "import re\n",
    "\n",
    "string = \"this is all abbout the padddttebbbr\"\n",
    "\n",
    "pattern = r'b{2,3}'\n",
    "matches = re.findall(pattern, string)\n",
    "\n",
    "print(matches)\n"
   ]
  },
  {
   "cell_type": "code",
   "execution_count": 18,
   "id": "485840dd",
   "metadata": {},
   "outputs": [
    {
     "name": "stdout",
     "output_type": "stream",
     "text": [
      "['Importance', 'Of', 'Regular', 'Expressions', 'In', 'Python']\n"
     ]
    }
   ],
   "source": [
    "import re\n",
    "\n",
    "string = \"ImportanceOfRegularExpressionsInPython\"\n",
    "\n",
    "pattern = r'(?=[A-Z])'\n",
    "result = re.split(pattern, string)[1:]\n",
    "\n",
    "print(result)\n"
   ]
  },
  {
   "cell_type": "code",
   "execution_count": null,
   "id": "2dbdfbc0",
   "metadata": {},
   "outputs": [],
   "source": []
  },
  {
   "cell_type": "code",
   "execution_count": null,
   "id": "53cea3c8",
   "metadata": {},
   "outputs": [],
   "source": []
  },
  {
   "cell_type": "code",
   "execution_count": 24,
   "id": "d4b54949",
   "metadata": {},
   "outputs": [
    {
     "name": "stdout",
     "output_type": "stream",
     "text": [
      "[]\n"
     ]
    }
   ],
   "source": [
    "string = \"abbbccddeebbb\"\n",
    "\n",
    "pattern = r\"(b.).(b..)\"\n",
    "\n",
    "matches = re.findall(pattern,string)\n",
    "\n",
    "print(matches)"
   ]
  },
  {
   "cell_type": "code",
   "execution_count": 17,
   "id": "79d08b25",
   "metadata": {
    "scrolled": true
   },
   "outputs": [
    {
     "name": "stdout",
     "output_type": "stream",
     "text": [
      "['Rohit ', 'Sharma has ', 'Score 43 ', 'C', 'E', 'N', 'T', 'U', 'R', 'E', 'I', 'S and 91 ', 'H', 'A', 'L', 'F ', 'C', 'E', 'N', 'T', 'U', 'R', 'E', 'I', 'S in his cricket career']\n"
     ]
    }
   ],
   "source": [
    "import re\n",
    "\n",
    "string = \"Rohit Sharma has Score 43 CENTUREIS and 91 HALF CENTUREIS in his cricket career\"\n",
    "\n",
    "pattern = r'(?=[A-Z])'\n",
    "result = re.split(pattern, string)[1:]\n",
    "\n",
    "print(result)\n"
   ]
  },
  {
   "cell_type": "code",
   "execution_count": 26,
   "id": "46071e20",
   "metadata": {},
   "outputs": [
    {
     "ename": "TypeError",
     "evalue": "expected string or bytes-like object",
     "output_type": "error",
     "traceback": [
      "\u001b[1;31m---------------------------------------------------------------------------\u001b[0m",
      "\u001b[1;31mTypeError\u001b[0m                                 Traceback (most recent call last)",
      "\u001b[1;32m~\\AppData\\Local\\Temp\\ipykernel_8040\\1094629419.py\u001b[0m in \u001b[0;36m<module>\u001b[1;34m\u001b[0m\n\u001b[0;32m      1\u001b[0m \u001b[0ma\u001b[0m \u001b[1;33m=\u001b[0m \u001b[1;34m\"abbbccddeebbb\"\u001b[0m\u001b[1;33m\u001b[0m\u001b[1;33m\u001b[0m\u001b[0m\n\u001b[1;32m----> 2\u001b[1;33m \u001b[0mpattern\u001b[0m \u001b[1;33m=\u001b[0m \u001b[0mre\u001b[0m\u001b[1;33m.\u001b[0m\u001b[0mmatch\u001b[0m\u001b[1;33m(\u001b[0m\u001b[1;34mr\"(b.).(b..)\"\u001b[0m\u001b[1;33m,\u001b[0m\u001b[0mpattern\u001b[0m\u001b[1;33m)\u001b[0m\u001b[1;33m\u001b[0m\u001b[1;33m\u001b[0m\u001b[0m\n\u001b[0m\u001b[0;32m      3\u001b[0m \u001b[0mprint\u001b[0m\u001b[1;33m(\u001b[0m\u001b[0mpattern\u001b[0m\u001b[1;33m)\u001b[0m\u001b[1;33m\u001b[0m\u001b[1;33m\u001b[0m\u001b[0m\n",
      "\u001b[1;32m~\\anaconda3\\lib\\re.py\u001b[0m in \u001b[0;36mmatch\u001b[1;34m(pattern, string, flags)\u001b[0m\n\u001b[0;32m    189\u001b[0m     \"\"\"Try to apply the pattern at the start of the string, returning\n\u001b[0;32m    190\u001b[0m     a Match object, or None if no match was found.\"\"\"\n\u001b[1;32m--> 191\u001b[1;33m     \u001b[1;32mreturn\u001b[0m \u001b[0m_compile\u001b[0m\u001b[1;33m(\u001b[0m\u001b[0mpattern\u001b[0m\u001b[1;33m,\u001b[0m \u001b[0mflags\u001b[0m\u001b[1;33m)\u001b[0m\u001b[1;33m.\u001b[0m\u001b[0mmatch\u001b[0m\u001b[1;33m(\u001b[0m\u001b[0mstring\u001b[0m\u001b[1;33m)\u001b[0m\u001b[1;33m\u001b[0m\u001b[1;33m\u001b[0m\u001b[0m\n\u001b[0m\u001b[0;32m    192\u001b[0m \u001b[1;33m\u001b[0m\u001b[0m\n\u001b[0;32m    193\u001b[0m \u001b[1;32mdef\u001b[0m \u001b[0mfullmatch\u001b[0m\u001b[1;33m(\u001b[0m\u001b[0mpattern\u001b[0m\u001b[1;33m,\u001b[0m \u001b[0mstring\u001b[0m\u001b[1;33m,\u001b[0m \u001b[0mflags\u001b[0m\u001b[1;33m=\u001b[0m\u001b[1;36m0\u001b[0m\u001b[1;33m)\u001b[0m\u001b[1;33m:\u001b[0m\u001b[1;33m\u001b[0m\u001b[1;33m\u001b[0m\u001b[0m\n",
      "\u001b[1;31mTypeError\u001b[0m: expected string or bytes-like object"
     ]
    }
   ],
   "source": [
    "a = \"abbbccddebbebbb\"\n",
    "pattern = re.\n",
    "print(pattern)"
   ]
  },
  {
   "cell_type": "code",
   "execution_count": 5,
   "id": "bbfc36bf",
   "metadata": {},
   "outputs": [
    {
     "name": "stdout",
     "output_type": "stream",
     "text": [
      " _ohli has also contributed to _ndia's successes, including winning the 2011 _orld _up and the 2013 _hampions trophy.\n"
     ]
    }
   ],
   "source": [
    "string = \" Kohli has also contributed to India's successes, including winning the 2011 World Cup and the 2013 Champions trophy.\"\n",
    "\n",
    "sub = re.sub(r'[A-Z]+',r'_',string)\n",
    "print(sub)"
   ]
  },
  {
   "cell_type": "code",
   "execution_count": null,
   "id": "fb00a7f9",
   "metadata": {},
   "outputs": [],
   "source": []
  }
 ],
 "metadata": {
  "kernelspec": {
   "display_name": "Python 3 (ipykernel)",
   "language": "python",
   "name": "python3"
  },
  "language_info": {
   "codemirror_mode": {
    "name": "ipython",
    "version": 3
   },
   "file_extension": ".py",
   "mimetype": "text/x-python",
   "name": "python",
   "nbconvert_exporter": "python",
   "pygments_lexer": "ipython3",
   "version": "3.9.13"
  }
 },
 "nbformat": 4,
 "nbformat_minor": 5
}
